{
 "cells": [
  {
   "cell_type": "markdown",
   "id": "f699ae86",
   "metadata": {},
   "source": [
    "# Сравнение предложений\n",
    "\n",
    "Дан набор предложений, скопированных с Википедии (sentences.txt). Каждое из них имеет \"кошачью тему\" в одном из трех смыслов:\n",
    "кошки (животные), \n",
    "UNIX-утилита cat для вывода содержимого файлов,\n",
    "версии операционной системы OS X, названные в честь семейства кошачьих.\n",
    "\n",
    "Программа решает задачу нахождения двух предложений, наиболее близких по смыслу к расположенному в самой первой строке. В качестве меры близости по смыслу используется косинусное расстояние."
   ]
  },
  {
   "cell_type": "code",
   "execution_count": 1,
   "id": "d7f2953c",
   "metadata": {
    "scrolled": true
   },
   "outputs": [],
   "source": [
    "import pandas as pd\n",
    "import numpy as np\n",
    "import re\n",
    "\n",
    "from collections import Counter\n",
    "\n",
    "from scipy.spatial import distance\n",
    "import matplotlib.pyplot as plt \n"
   ]
  },
  {
   "cell_type": "markdown",
   "id": "638f5773",
   "metadata": {},
   "source": [
    "Считывание предложений из файла, токенизация и создание матрицы n×d, где n - общее число предложений, d - общее число слов."
   ]
  },
  {
   "cell_type": "code",
   "execution_count": 2,
   "id": "460a9642",
   "metadata": {},
   "outputs": [],
   "source": [
    "with open('sentences.txt', 'r', encoding='utf-8') as myfile:\n",
    "    new_file = myfile.read()\n",
    "n = new_file.count('\\n')\n",
    "all_tokens = re.split('[^a-z]', new_file.lower())\n",
    "all_clean = [word for word in all_tokens if word.isalpha()]\n",
    "word_set = set(all_clean)\n",
    "word_list = list(word_set)\n",
    "d = len(word_set)\n",
    "new_file_list = new_file.split('\\n')\n",
    "mm = np.zeros((n,d))\n"
   ]
  },
  {
   "cell_type": "markdown",
   "id": "1b6ad7c6",
   "metadata": {},
   "source": [
    "Заполним матрицу так, чтобы элемент с индексом (i, j) был равен количеству вхождений j-го слова в i-е предложение."
   ]
  },
  {
   "cell_type": "code",
   "execution_count": 8,
   "id": "f8a021b2",
   "metadata": {},
   "outputs": [
    {
     "data": {
      "text/plain": [
       "2.0"
      ]
     },
     "execution_count": 8,
     "metadata": {},
     "output_type": "execute_result"
    }
   ],
   "source": [
    "for i in range(n):\n",
    "    for j in range(d):\n",
    "        sentence_split = re.split('[^a-z]', new_file_list[i].lower())\n",
    "        sentence_clean = [word for word in sentence_split if word.isalpha()]\n",
    "        mm[i,j] = sentence_clean.count(word_list[j])\n",
    "\n",
    "mm[1,1]"
   ]
  },
  {
   "cell_type": "markdown",
   "id": "22f93039",
   "metadata": {},
   "source": [
    "Найдем косинусное расстояние от предложения в самой первой строке (In comparison to dogs, cats have not undergone...) до всех остальных. Выведем первое предложение и два предложения, ближайших к нему по этому расстоянию."
   ]
  },
  {
   "cell_type": "code",
   "execution_count": 30,
   "id": "2b90c424",
   "metadata": {},
   "outputs": [
    {
     "name": "stdout",
     "output_type": "stream",
     "text": [
      "In comparison to dogs, cats have not undergone major changes during the domestication process.\n",
      "Domestic cats are similar in size to the other members of the genus Felis, typically weighing between 4 and 5 kg (8.8 and 11.0 lb).\n",
      "In one, people deliberately tamed cats in a process of artificial selection, as they were useful predators of vermin.\n"
     ]
    }
   ],
   "source": [
    "result_list = list()\n",
    "for i in range(1,n):\n",
    "    a = mm[0][np.newaxis,:]\n",
    "    b = mm[i][np.newaxis,:]\n",
    "    result_list.append(distance.cosine(a,b))\n",
    "result_list = np.array(result_list)\n",
    "num = result_list.argsort()[:2]+1\n",
    "print(new_file_list[0])\n",
    "print(new_file_list[num[0]])\n",
    "print(new_file_list[num[1]])"
   ]
  }
 ],
 "metadata": {
  "kernelspec": {
   "display_name": "Python 3 (ipykernel)",
   "language": "python",
   "name": "python3"
  },
  "language_info": {
   "codemirror_mode": {
    "name": "ipython",
    "version": 3
   },
   "file_extension": ".py",
   "mimetype": "text/x-python",
   "name": "python",
   "nbconvert_exporter": "python",
   "pygments_lexer": "ipython3",
   "version": "3.8.8"
  }
 },
 "nbformat": 4,
 "nbformat_minor": 5
}
