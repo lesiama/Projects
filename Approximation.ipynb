{
 "cells": [
  {
   "cell_type": "code",
   "execution_count": 16,
   "id": "b57ae848",
   "metadata": {},
   "outputs": [],
   "source": [
    "import pandas as pd\n",
    "import numpy as np\n",
    "import re\n",
    "\n",
    "from collections import Counter\n",
    "\n",
    "from scipy import linalg\n",
    "import matplotlib.pyplot as plt "
   ]
  },
  {
   "cell_type": "code",
   "execution_count": 120,
   "id": "2ca7e55c",
   "metadata": {},
   "outputs": [
    {
     "data": {
      "text/plain": [
       "' 4.36264154 -1.29552587  0.19333685 -0.00823565'"
      ]
     },
     "execution_count": 120,
     "metadata": {},
     "output_type": "execute_result"
    }
   ],
   "source": [
    "x_matrix = np.array([1.,1.,1.,1.,1.,4.,16.,4.**3,1.,10.,100.,1000.,1.,15.,225.,15.**3])\n",
    "x_matrix = x_matrix.reshape(4,4)\n",
    "x_new = np.array([1.,4.,10.,15.])\n",
    "f_matrix = np.sin( x_new[:] / 5) * np.exp(x_new[:]/ 10) + 5 * np.exp(-x_new[:] / 2)\n",
    "f_matrix = f_matrix.reshape(len(x_new),1)\n",
    "w_matrix = linalg.solve(x_matrix,f_matrix)\n",
    "w_matrix = w_matrix.reshape(1,4)\n",
    "last_string = str(w_matrix).strip('[[]]')\n",
    "last_string"
   ]
  },
  {
   "cell_type": "code",
   "execution_count": 121,
   "id": "76b706fc",
   "metadata": {},
   "outputs": [],
   "source": [
    "with open('submission-2.txt', 'w', encoding='utf-8') as myfile:\n",
    "    new_file = myfile.write(last_string)"
   ]
  },
  {
   "cell_type": "code",
   "execution_count": 60,
   "id": "53a6c1ff",
   "metadata": {},
   "outputs": [],
   "source": [
    "def f(t):\n",
    "    return np.sin( t / 5) * np.exp(t/ 10) + 5 * np.exp(- t/ 2)"
   ]
  },
  {
   "cell_type": "code",
   "execution_count": 100,
   "id": "4be068a3",
   "metadata": {},
   "outputs": [
    {
     "data": {
      "image/png": "[encoded data removed]",
      "text/plain": [
       "<Figure size 432x288 with 1 Axes>"
      ]
     },
     "metadata": {
      "needs_background": "light"
     },
     "output_type": "display_data"
    }
   ],
   "source": [
    "x = np.arange(0, 16, 0.6)\n",
    "x_new = np.array([1,4,10,15])\n",
    "w_matrix = w_matrix.reshape(len(x_matrix),1)\n",
    "plt.plot(x, f(x), 'k', x_new, x_matrix.dot(w_matrix), 'bo')\n",
    "plt.show()"
   ]
  },
  {
   "cell_type": "code",
   "execution_count": null,
   "id": "a7ec6301",
   "metadata": {},
   "outputs": [],
   "source": []
  }
 ],
 "metadata": {
  "kernelspec": {
   "display_name": "Python 3 (ipykernel)",
   "language": "python",
   "name": "python3"
  },
  "language_info": {
   "codemirror_mode": {
    "name": "ipython",
    "version": 3
   },
   "file_extension": ".py",
   "mimetype": "text/x-python",
   "name": "python",
   "nbconvert_exporter": "python",
   "pygments_lexer": "ipython3",
   "version": "3.8.8"
  }
 },
 "nbformat": 4,
 "nbformat_minor": 5
}
