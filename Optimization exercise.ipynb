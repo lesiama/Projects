{
 "cells": [
  {
   "cell_type": "markdown",
   "id": "7efade8b",
   "metadata": {},
   "source": [
    "# Решение задач оптимизации с помощью библиотеки SciPy\n",
    "В этом задании решается задача поиска минимума функции с помощью одного из градиентных методов оптимизации (BFGS), метода глобальной оптимизации (дифференциальной эволюции), а также задача поиска глобального минимума негладкой функции, у которой не определен градиент."
   ]
  },
  {
   "cell_type": "code",
   "execution_count": 1,
   "id": "4af6bb36",
   "metadata": {},
   "outputs": [],
   "source": [
    "import numpy as np\n",
    "import pandas as pd\n",
    "import matplotlib.pyplot as plt"
   ]
  },
  {
   "cell_type": "code",
   "execution_count": 2,
   "id": "cf867895",
   "metadata": {},
   "outputs": [],
   "source": [
    "from scipy import optimize"
   ]
  },
  {
   "cell_type": "markdown",
   "id": "30752ec4",
   "metadata": {},
   "source": [
    "Зададим гладкую функцию:"
   ]
  },
  {
   "cell_type": "code",
   "execution_count": 3,
   "id": "87dc42c0",
   "metadata": {},
   "outputs": [],
   "source": [
    "def f(t):\n",
    "    return np.sin( t / 5) * np.exp(t/ 10) + 5 * np.exp(- t/ 2)"
   ]
  },
  {
   "cell_type": "markdown",
   "id": "320bf5d0",
   "metadata": {},
   "source": [
    "Используя scipy.optimize.minimize, найдем минимум функции с помощью градиентного метода оптимизации с различным начальным приближением (x=2, x=30):"
   ]
  },
  {
   "cell_type": "code",
   "execution_count": 4,
   "id": "0a2cc5a0",
   "metadata": {},
   "outputs": [
    {
     "name": "stdout",
     "output_type": "stream",
     "text": [
      "1.7452682903447336\n"
     ]
    }
   ],
   "source": [
    "x = np.arange(1.0, 31.0, 1.0)\n",
    "last_string = []\n",
    "res0 = optimize.minimize(f, x[1], method='BFGS')\n",
    "print(res0.fun)"
   ]
  },
  {
   "cell_type": "code",
   "execution_count": 5,
   "id": "d1477478",
   "metadata": {},
   "outputs": [
    {
     "name": "stdout",
     "output_type": "stream",
     "text": [
      "-11.898894665981313\n"
     ]
    }
   ],
   "source": [
    "res1 = optimize.minimize(f, x[29], method='BFGS')\n",
    "print(res1.fun) "
   ]
  },
  {
   "cell_type": "markdown",
   "id": "d8b54dc7",
   "metadata": {},
   "source": [
    "Применим к той же функции f(x) метод глобальной оптимизации — дифференциальную эволюцию."
   ]
  },
  {
   "cell_type": "code",
   "execution_count": 6,
   "id": "f1e6520a",
   "metadata": {},
   "outputs": [
    {
     "name": "stdout",
     "output_type": "stream",
     "text": [
      "[-11.89889467]\n"
     ]
    }
   ],
   "source": [
    "res2 = optimize.differential_evolution(f, [(1, 30)])\n",
    "print(res2.fun)"
   ]
  },
  {
   "cell_type": "code",
   "execution_count": 7,
   "id": "8667ca15",
   "metadata": {},
   "outputs": [
    {
     "data": {
      "image/png": "[encoded data removed]",
      "text/plain": [
       "<Figure size 432x288 with 1 Axes>"
      ]
     },
     "metadata": {
      "needs_background": "light"
     },
     "output_type": "display_data"
    }
   ],
   "source": [
    "plt.plot(x, f(x), 'k', res0.x, res0.fun, 'bo', res1.x, res1.fun, 'bo', res2.x, res2.fun, '*')\n",
    "plt.show()"
   ]
  },
  {
   "cell_type": "markdown",
   "id": "481a16b5",
   "metadata": {},
   "source": [
    "Зададим негладкую функцию:"
   ]
  },
  {
   "cell_type": "code",
   "execution_count": 8,
   "id": "db5d1866",
   "metadata": {},
   "outputs": [],
   "source": [
    "def h(t):\n",
    "    xx = np.sin( t / 5) * np.exp(t/ 10) + 5 * np.exp(- t/ 2)\n",
    "    return xx.astype(int)"
   ]
  },
  {
   "cell_type": "markdown",
   "id": "90926b7a",
   "metadata": {},
   "source": [
    "Попробуем найти ее минимум градиентным методом:"
   ]
  },
  {
   "cell_type": "code",
   "execution_count": 9,
   "id": "ee9a0d56",
   "metadata": {},
   "outputs": [
    {
     "name": "stdout",
     "output_type": "stream",
     "text": [
      "-5\n"
     ]
    }
   ],
   "source": [
    "k = np.arange(1, 31, 1)\n",
    "res3 = optimize.minimize(h, k[-1], method='BFGS')\n",
    "print(res3.fun)"
   ]
  },
  {
   "cell_type": "markdown",
   "id": "cbeb58cd",
   "metadata": {},
   "source": [
    "Применим метод дифференциальной эволюции для поиска минимума негладкой функции:"
   ]
  },
  {
   "cell_type": "code",
   "execution_count": 10,
   "id": "9123fb18",
   "metadata": {},
   "outputs": [
    {
     "name": "stdout",
     "output_type": "stream",
     "text": [
      "-11.0\n"
     ]
    }
   ],
   "source": [
    "res4 = optimize.differential_evolution(h, [(1, 30)])\n",
    "print(res4.fun)"
   ]
  },
  {
   "cell_type": "code",
   "execution_count": 11,
   "id": "aa1996f1",
   "metadata": {},
   "outputs": [
    {
     "data": {
      "image/png": "[encoded data removed]",
      "text/plain": [
       "<Figure size 432x288 with 1 Axes>"
      ]
     },
     "metadata": {
      "needs_background": "light"
     },
     "output_type": "display_data"
    }
   ],
   "source": [
    "plt.plot(k, h(k), 'k', res3.x, res3.fun, 'bo', res4.x, res4.fun, '*')\n",
    "plt.show()"
   ]
  },
  {
   "cell_type": "code",
   "execution_count": null,
   "id": "232c3565",
   "metadata": {},
   "outputs": [],
   "source": []
  }
 ],
 "metadata": {
  "kernelspec": {
   "display_name": "Python 3 (ipykernel)",
   "language": "python",
   "name": "python3"
  },
  "language_info": {
   "codemirror_mode": {
    "name": "ipython",
    "version": 3
   },
   "file_extension": ".py",
   "mimetype": "text/x-python",
   "name": "python",
   "nbconvert_exporter": "python",
   "pygments_lexer": "ipython3",
   "version": "3.9.7"
  }
 },
 "nbformat": 4,
 "nbformat_minor": 5
}
